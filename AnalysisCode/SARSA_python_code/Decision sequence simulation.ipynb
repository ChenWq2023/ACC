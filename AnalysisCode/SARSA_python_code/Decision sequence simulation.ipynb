{
 "cells": [
  {
   "cell_type": "code",
   "execution_count": 1,
   "metadata": {},
   "outputs": [],
   "source": [
    "import pandas as pd\n",
    "import numpy as np\n",
    "import matplotlib.pyplot as plt\n",
    "from SARSA_function_qiyun import generate_action_reverse_TD0,generate_action_uncertain_TD0,generate_action_stable_TD0\n",
    "import pandas as pd\n",
    "import os\n",
    "import glob"
   ]
  },
  {
   "cell_type": "code",
   "execution_count": 2,
   "metadata": {},
   "outputs": [
    {
     "name": "stdout",
     "output_type": "stream",
     "text": [
      "================1/3===================\n",
      "================2/3===================\n",
      "================3/3===================\n"
     ]
    }
   ],
   "source": [
    "# A list used for storing generated data, with each element representing a dataframe of simulated action sequences.\n",
    "iter_num = 3000               # The total number of generated simulated behavioral data instances.\n",
    "file_name = ['qiyun_stable_genData','qiyun_uncertain_genData','qiyun_reverse_genData']\n",
    "for j in range(3):\n",
    "    generate_data_list = [] \n",
    "    for m in range(iter_num):\n",
    "        if j+1==1: \n",
    "            data = generate_action_stable_TD0(0.98,0.028,45,0.1,0)       # Data generated during the stable phase.\n",
    "        elif j+1==2: \n",
    "            data = generate_action_uncertain_TD0(0.98,0.028,45,0.1,0)       # Data generated during the uncertain phase.\n",
    "        elif j+1==3: \n",
    "            data = generate_action_reverse_TD0(0.98,0.028,45,0.1,0)       # Data generated during the reverse phase.\n",
    "      \n",
    "        # If it is the uncertain phase, annotations for the RO stage will be commented out.\n",
    "        # data.loc[data['Action']=='RO','Action'] = 'lick'        # 将RO 替换为lick\n",
    "        # data.loc[data['Action']=='Lick','Action'] = 'lick'        # 将RO 替换为lick\n",
    "        # data.loc[data['Action']=='NoLick','Action'] = 'nolick'    # 将RO 替换为lick\n",
    "        data['iter_num'] = m+1                                    # 将生成的数据记录迭代编号\n",
    "        generate_data_list.append(data)\n",
    "    print(f'================{j+1}/3===================')\n",
    "    concatenated_df = pd.concat(generate_data_list, axis=0)\n",
    "    concatenated_df.to_csv(f'G:\\\\new_data_analysis\\\\behavior_new\\\\new_genData\\\\{file_name[j]}.csv')"
   ]
  },
  {
   "cell_type": "code",
   "execution_count": 4,
   "metadata": {},
   "outputs": [
    {
     "name": "stdout",
     "output_type": "stream",
     "text": [
      "['G:\\\\new_data_analysis\\\\behavior_new\\\\new_genData\\\\qiyun_reverse_genData.csv', 'G:\\\\new_data_analysis\\\\behavior_new\\\\new_genData\\\\qiyun_stable_genData.csv', 'G:\\\\new_data_analysis\\\\behavior_new\\\\new_genData\\\\qiyun_uncertain_genData.csv']\n"
     ]
    }
   ],
   "source": [
    "file_path = glob.glob(os.path.join(r'G:\\new_data_analysis\\behavior_new\\new_genData','*csv'))\n",
    "print(file_path)\n",
    "file_name = ['qiyun_reverse_genData','qiyun_stable_genData','qiyun_uncertain_genData']\n",
    "# Create a mapping dictionary to encode decisions based on different stages.\n",
    "SU_action_to_outcome = {'Lick': 1, 'NoLick': 2,'RO':5}\n",
    "R_action_to_outcome = {'Lick': 4, 'NoLick': 3}\n",
    "for path,j in zip(file_path,range(len(file_path))):\n",
    "    df = pd.read_csv(path,index_col=0)\n",
    "    if j<1:\n",
    "        df['outcome'] = df['Action'].map(R_action_to_outcome)\n",
    "    else: df['outcome'] = df['Action'].map(SU_action_to_outcome)\n",
    "    \n",
    "    df.to_csv(path)"
   ]
  }
 ],
 "metadata": {
  "kernelspec": {
   "display_name": "qiyun",
   "language": "python",
   "name": "python3"
  },
  "language_info": {
   "codemirror_mode": {
    "name": "ipython",
    "version": 3
   },
   "file_extension": ".py",
   "mimetype": "text/x-python",
   "name": "python",
   "nbconvert_exporter": "python",
   "pygments_lexer": "ipython3",
   "version": "3.8.16"
  },
  "orig_nbformat": 4
 },
 "nbformat": 4,
 "nbformat_minor": 2
}
